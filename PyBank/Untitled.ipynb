{
 "cells": [
  {
   "cell_type": "code",
   "execution_count": 18,
   "id": "90da3a92-62e1-458b-bcac-2a8394108242",
   "metadata": {
    "tags": []
   },
   "outputs": [
    {
     "name": "stdout",
     "output_type": "stream",
     "text": [
      "The bond is selling at a price of $700 and is valued at $620.92.\n",
      "A discount of 79.08 exists, therefore you do not want to buy the bond.\n"
     ]
    }
   ],
   "source": [
    "def calculate_present_value(future_value, discount_rate, compounding_periods, years):\n",
    "    present_value = future_value / (1 + (discount_rate / compounding_periods)) ** (compounding_periods * years)\n",
    "    present_value_formatted = round(present_value, 2)\n",
    "\n",
    "    return present_value_formatted\n",
    "    \n",
    "future_value = 1000\n",
    "compounding_periods = 1\n",
    "price = 700\n",
    "years = 5\n",
    "discount_rate = 0.1\n",
    "\n",
    "bond_value = calculate_present_value(future_value, discount_rate, compounding_periods, years)\n",
    "\n",
    "if bond_value > price:\n",
    "    discount = round(bond_value - price, 2)\n",
    "    print(f\"The bond is selling at a price of ${price} and is valued at ${bond_value}.\")\n",
    "    print(f\"A discount of {discount} exists, therefore you want to buy the bond.\")\n",
    "elif bond_value < price:\n",
    "    premium = round(price - bond_value, 2)\n",
    "    print(f\"The bond is selling at a price of ${price} and is valued at ${bond_value}.\")\n",
    "    print(f\"A discount of {premium} exists, therefore you do not want to buy the bond.\")\n",
    "else:\n",
    "    print(f\"The bond is selling at a price of ${price} and is valued at ${bond_value}.\")\n",
    "    print(f\"The bond is selling at its present value, you are neutral.\")"
   ]
  },
  {
   "cell_type": "code",
   "execution_count": 19,
   "id": "df093b8b-1922-43ac-87ba-7a182753a3d6",
   "metadata": {
    "tags": []
   },
   "outputs": [
    {
     "ename": "ModuleNotFoundError",
     "evalue": "No module named 'functions'",
     "output_type": "error",
     "traceback": [
      "\u001b[1;31m---------------------------------------------------------------------------\u001b[0m",
      "\u001b[1;31mModuleNotFoundError\u001b[0m                       Traceback (most recent call last)",
      "Cell \u001b[1;32mIn[19], line 1\u001b[0m\n\u001b[1;32m----> 1\u001b[0m \u001b[38;5;28;01mimport\u001b[39;00m \u001b[38;5;21;01mfunctions\u001b[39;00m\n\u001b[0;32m      2\u001b[0m functions\u001b[38;5;241m.\u001b[39mprint_hello()\n",
      "\u001b[1;31mModuleNotFoundError\u001b[0m: No module named 'functions'"
     ]
    }
   ],
   "source": [
    "import functions\n",
    "functions.print_hello()"
   ]
  },
  {
   "cell_type": "code",
   "execution_count": null,
   "id": "f0a5ffb3-76b9-4c6d-a0ab-788975d959fd",
   "metadata": {},
   "outputs": [],
   "source": [
    " "
   ]
  }
 ],
 "metadata": {
  "kernelspec": {
   "display_name": "Python 3 (ipykernel)",
   "language": "python",
   "name": "python3"
  },
  "language_info": {
   "codemirror_mode": {
    "name": "ipython",
    "version": 3
   },
   "file_extension": ".py",
   "mimetype": "text/x-python",
   "name": "python",
   "nbconvert_exporter": "python",
   "pygments_lexer": "ipython3",
   "version": "3.11.4"
  }
 },
 "nbformat": 4,
 "nbformat_minor": 5
}
